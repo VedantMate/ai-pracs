{
 "cells": [
  {
   "cell_type": "code",
   "execution_count": 4,
   "id": "a89bcf4a-586f-4197-b170-224a1fda0abe",
   "metadata": {},
   "outputs": [],
   "source": [
    "import heapq\n",
    "\n",
    "class Graph:\n",
    "\n",
    "    def __init__(self):\n",
    "        self.graph = {}\n",
    "\n",
    "    def addedge(self,u,v,weight):\n",
    "        if u not in self.graph:\n",
    "            self.graph[u] = []\n",
    "        if v not in self.graph:\n",
    "            self.graph[v] = []\n",
    "        self.graph[u].append((v,weight))\n",
    "        self.graph[v].append((u,weight))\n",
    "    \n",
    "    def prims(self):\n",
    "\n",
    "        mst = []\n",
    "        pq = [(0,None,list(self.graph.keys())[0])]\n",
    "        visited = set()\n",
    "        total_cost = 0\n",
    "\n",
    "        while pq:\n",
    "            weight,parent,node = heapq.heappop(pq)\n",
    "\n",
    "            if node in visited:\n",
    "                continue\n",
    "            visited.add(node)\n",
    "            if parent is not None:\n",
    "                mst.append((parent,node,weight))\n",
    "                total_cost +=weight\n",
    "            for neighbours,weight in self.graph[node]:\n",
    "                if neighbours not in visited:\n",
    "                    heapq.heappush(pq,(weight,node,neighbours))\n",
    "        return mst,total_cost "
   ]
  },
  {
   "cell_type": "code",
   "execution_count": 5,
   "id": "b5334d05-fcfb-429b-b5eb-a9beaeb8b750",
   "metadata": {},
   "outputs": [
    {
     "name": "stdout",
     "output_type": "stream",
     "text": [
      "all the edges in mst are : \n",
      "A -- B == 1\n",
      "A -- F == 2\n",
      "B -- E == 2\n",
      "B -- C == 4\n",
      "C -- G == 3\n",
      "G -- D == 2\n",
      "total cost of MST is : \n"
     ]
    }
   ],
   "source": [
    "g = Graph() \n",
    "\n",
    "g.addedge('A','B',1)\n",
    "g.addedge('A','F',2)\n",
    "g.addedge('B','C',4)\n",
    "g.addedge('B','E',2)\n",
    "g.addedge('E','F',5)\n",
    "g.addedge('F','G',4)\n",
    "g.addedge('C','G',3)\n",
    "g.addedge('C','D',6)\n",
    "g.addedge('G','D',2)\n",
    "\n",
    "mst,total_cost = g.prims()\n",
    "\n",
    "print(\"all the edges in mst are : \")\n",
    "for u,v,w in mst:\n",
    "    print(\"%s -- %s == %d\"%(u,v,w))\n",
    "print(\"total cost of MST is : \",total_cost)"
   ]
  },
  {
   "cell_type": "code",
   "execution_count": null,
   "id": "97b9e198-8ae8-4c89-ae98-a3d957a31f0d",
   "metadata": {},
   "outputs": [],
   "source": []
  }
 ],
 "metadata": {
  "kernelspec": {
   "display_name": "Python 3 (ipykernel)",
   "language": "python",
   "name": "python3"
  },
  "language_info": {
   "codemirror_mode": {
    "name": "ipython",
    "version": 3
   },
   "file_extension": ".py",
   "mimetype": "text/x-python",
   "name": "python",
   "nbconvert_exporter": "python",
   "pygments_lexer": "ipython3",
   "version": "3.11.7"
  }
 },
 "nbformat": 4,
 "nbformat_minor": 5
}
