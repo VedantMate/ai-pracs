{
 "cells": [
  {
   "cell_type": "code",
   "execution_count": 3,
   "id": "70ed9205-aa0d-4174-97e7-a0e9bbc3342a",
   "metadata": {},
   "outputs": [],
   "source": [
    "class Graph:\n",
    "\n",
    "    def __init__(self):\n",
    "        self.graph = []\n",
    "        \n",
    "    def addedge(self,u,v,w):\n",
    "        self.graph.append((w,u,v))\n",
    "        \n",
    "    def kruskals(self):\n",
    "        \n",
    "        self.graph.sort()\n",
    "        mst = []\n",
    "        parent = {}\n",
    "        rank = {}\n",
    "        total_cost = 0\n",
    "        \n",
    "        def find(node):\n",
    "            if parent[node] != node:\n",
    "                parent[node] = find(parent[node])\n",
    "            return parent[node]\n",
    "            \n",
    "        def union(node1,node2):\n",
    "            root1 = find(node1)\n",
    "            root2 = find(node2)\n",
    "            if root1 != root2:\n",
    "                if rank[root1] < rank[root2]:\n",
    "                    parent[root1] = root2 \n",
    "                elif rank[root1] > rank[root2]:\n",
    "                    parent[root2] = root1 \n",
    "                else:\n",
    "                    parent[root2] = root1 \n",
    "                    rank[root1] += 1 \n",
    "                    \n",
    "        for edge in self.graph:\n",
    "            weight,u,v = edge\n",
    "            \n",
    "            if u not in parent:\n",
    "                parent[u] = u\n",
    "                rank[u] = 0\n",
    "                \n",
    "            if v not in parent:\n",
    "                parent[v] = v \n",
    "                rank[v] = 0 \n",
    "                \n",
    "            if find(u) != find(v):\n",
    "                mst.append((u,v,weight))\n",
    "                total_cost += weight\n",
    "                union(u,v) \n",
    "                \n",
    "        return mst,total_cost "
   ]
  },
  {
   "cell_type": "code",
   "execution_count": 4,
   "id": "c26e6298-b103-43e3-9e1b-4c5d778810ba",
   "metadata": {},
   "outputs": [
    {
     "name": "stdout",
     "output_type": "stream",
     "text": [
      "edges in MST are : \n",
      "A -- B == 1\n",
      "A -- F == 2\n",
      "B -- E == 2\n",
      "G -- D == 2\n",
      "C -- G == 3\n",
      "B -- C == 4\n",
      "total cost of MST is :  14\n"
     ]
    }
   ],
   "source": [
    "g = Graph() \n",
    "\n",
    "g.addedge('A','B',1)\n",
    "g.addedge('A','F',2)\n",
    "g.addedge('B','C',4)\n",
    "g.addedge('B','E',2)\n",
    "g.addedge('E','F',5)\n",
    "g.addedge('F','G',4)\n",
    "g.addedge('C','G',3)\n",
    "g.addedge('C','D',6)\n",
    "g.addedge('G','D',2)\n",
    "\n",
    "mst,total_cost = g.kruskals() \n",
    "\n",
    "print(\"edges in MST are : \")\n",
    "for u,v,weight in mst:\n",
    "    print(\"%s -- %s == %d\"%(u,v,weight))\n",
    "print(\"total cost of MST is : \",total_cost)"
   ]
  },
  {
   "cell_type": "code",
   "execution_count": null,
   "id": "9aebe99c-628c-42fc-b134-e1e817eff9ce",
   "metadata": {},
   "outputs": [],
   "source": []
  }
 ],
 "metadata": {
  "kernelspec": {
   "display_name": "Python 3 (ipykernel)",
   "language": "python",
   "name": "python3"
  },
  "language_info": {
   "codemirror_mode": {
    "name": "ipython",
    "version": 3
   },
   "file_extension": ".py",
   "mimetype": "text/x-python",
   "name": "python",
   "nbconvert_exporter": "python",
   "pygments_lexer": "ipython3",
   "version": "3.11.7"
  }
 },
 "nbformat": 4,
 "nbformat_minor": 5
}
